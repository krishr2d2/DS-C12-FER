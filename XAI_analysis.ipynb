{
 "cells": [
  {
   "cell_type": "code",
   "execution_count": 1,
   "id": "010f6a31",
   "metadata": {},
   "outputs": [],
   "source": [
    "import tensorflow as tf\n",
    "import tensorflow.keras.backend as K"
   ]
  },
  {
   "cell_type": "code",
   "execution_count": 2,
   "id": "7a8dc337",
   "metadata": {},
   "outputs": [
    {
     "name": "stdout",
     "output_type": "stream",
     "text": [
      "Model: \"SNN_model\"\n",
      "__________________________________________________________________________________________________\n",
      " Layer (type)                   Output Shape         Param #     Connected to                     \n",
      "==================================================================================================\n",
      " input_19 (InputLayer)          [(None, 120, 120, 3  0           []                               \n",
      "                                )]                                                                \n",
      "                                                                                                  \n",
      " input_20 (InputLayer)          [(None, 120, 120, 3  0           []                               \n",
      "                                )]                                                                \n",
      "                                                                                                  \n",
      " model_6 (Functional)           (None, 32)           941792      ['input_19[0][0]',               \n",
      "                                                                  'input_20[0][0]']               \n",
      "                                                                                                  \n",
      " lambda_6 (Lambda)              (None, 1)            0           ['model_6[0][0]',                \n",
      "                                                                  'model_6[1][0]']                \n",
      "                                                                                                  \n",
      " dense_30 (Dense)               (None, 1)            2           ['lambda_6[0][0]']               \n",
      "                                                                                                  \n",
      "==================================================================================================\n",
      "Total params: 941,794\n",
      "Trainable params: 941,794\n",
      "Non-trainable params: 0\n",
      "__________________________________________________________________________________________________\n"
     ]
    }
   ],
   "source": [
    "## Load the model\n",
    "model_path = \"iteration4_results/output/output/siamese_model\"\n",
    "model = tf.keras.models.load_model(model_path, compile=False)\n",
    "model.summary()"
   ]
  },
  {
   "cell_type": "code",
   "execution_count": 5,
   "id": "e263ec69",
   "metadata": {},
   "outputs": [],
   "source": [
    "import visualkeras\n",
    "\n",
    "visualkeras.layered_view(model).show() # display using your system viewer"
   ]
  },
  {
   "cell_type": "code",
   "execution_count": 6,
   "id": "037afab6",
   "metadata": {},
   "outputs": [
    {
     "name": "stdout",
     "output_type": "stream",
     "text": [
      "Model: \"model_6\"\n",
      "_________________________________________________________________\n",
      " Layer (type)                Output Shape              Param #   \n",
      "=================================================================\n",
      " input_21 (InputLayer)       [(None, 120, 120, 3)]     0         \n",
      "                                                                 \n",
      " conv2d_15 (Conv2D)          (None, 120, 120, 32)      416       \n",
      "                                                                 \n",
      " max_pooling2d_15 (MaxPoolin  (None, 60, 60, 32)       0         \n",
      " g2D)                                                            \n",
      "                                                                 \n",
      " dropout_29 (Dropout)        (None, 60, 60, 32)        0         \n",
      "                                                                 \n",
      " conv2d_16 (Conv2D)          (None, 60, 60, 32)        4128      \n",
      "                                                                 \n",
      " max_pooling2d_16 (MaxPoolin  (None, 30, 30, 32)       0         \n",
      " g2D)                                                            \n",
      "                                                                 \n",
      " dropout_30 (Dropout)        (None, 30, 30, 32)        0         \n",
      "                                                                 \n",
      " conv2d_17 (Conv2D)          (None, 30, 30, 32)        4128      \n",
      "                                                                 \n",
      " max_pooling2d_17 (MaxPoolin  (None, 15, 15, 32)       0         \n",
      " g2D)                                                            \n",
      "                                                                 \n",
      " dropout_31 (Dropout)        (None, 15, 15, 32)        0         \n",
      "                                                                 \n",
      " flatten_6 (Flatten)         (None, 7200)              0         \n",
      "                                                                 \n",
      " dense_26 (Dense)            (None, 128)               921728    \n",
      "                                                                 \n",
      " dropout_32 (Dropout)        (None, 128)               0         \n",
      "                                                                 \n",
      " dense_27 (Dense)            (None, 64)                8256      \n",
      "                                                                 \n",
      " dropout_33 (Dropout)        (None, 64)                0         \n",
      "                                                                 \n",
      " dense_28 (Dense)            (None, 32)                2080      \n",
      "                                                                 \n",
      " dropout_34 (Dropout)        (None, 32)                0         \n",
      "                                                                 \n",
      " dense_29 (Dense)            (None, 32)                1056      \n",
      "                                                                 \n",
      "=================================================================\n",
      "Total params: 941,792\n",
      "Trainable params: 941,792\n",
      "Non-trainable params: 0\n",
      "_________________________________________________________________\n"
     ]
    }
   ],
   "source": [
    "## load the feature-generation model\n",
    "model_path = \"iteration4_results/output/fetureExtractor\"\n",
    "feature_model = tf.keras.models.load_model(model_path, compile=False)\n",
    "feature_model.summary()"
   ]
  },
  {
   "cell_type": "code",
   "execution_count": 12,
   "id": "a72c6b8e",
   "metadata": {},
   "outputs": [],
   "source": [
    "visualkeras.layered_view(feature_model, legend=True, draw_volume=False).show()"
   ]
  },
  {
   "cell_type": "code",
   "execution_count": 1,
   "id": "b5d8a951",
   "metadata": {},
   "outputs": [],
   "source": [
    "import matplotlib.pyplot as plt\n",
    "import cv2"
   ]
  },
  {
   "cell_type": "code",
   "execution_count": 2,
   "id": "0cc0a4d2",
   "metadata": {},
   "outputs": [],
   "source": [
    "img_res = cv2.imread(\"experiments/experiment_4/cfm_train.png\")\n",
    "img_vgg = cv2.imread(\"experiments/experiment_4/cfm_test.png\")"
   ]
  },
  {
   "cell_type": "code",
   "execution_count": 4,
   "id": "1c13aa59",
   "metadata": {},
   "outputs": [
    {
     "data": {
      "image/png": "[encoded data removed]",
      "text/plain": [
       "<Figure size 720x432 with 2 Axes>"
      ]
     },
     "metadata": {
      "needs_background": "light"
     },
     "output_type": "display_data"
    }
   ],
   "source": [
    "fig,ax = plt.subplots(1,2,figsize = (10,6))\n",
    "ax[0].imshow(img_res)\n",
    "ax[1].imshow(img_vgg)\n",
    "plt.show()"
   ]
  },
  {
   "cell_type": "code",
   "execution_count": null,
   "id": "00af4c41",
   "metadata": {},
   "outputs": [],
   "source": []
  }
 ],
 "metadata": {
  "kernelspec": {
   "display_name": "Python 3 (ipykernel)",
   "language": "python",
   "name": "python3"
  },
  "language_info": {
   "codemirror_mode": {
    "name": "ipython",
    "version": 3
   },
   "file_extension": ".py",
   "mimetype": "text/x-python",
   "name": "python",
   "nbconvert_exporter": "python",
   "pygments_lexer": "ipython3",
   "version": "3.7.13"
  }
 },
 "nbformat": 4,
 "nbformat_minor": 5
}
